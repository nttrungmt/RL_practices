{
 "cells": [
  {
   "cell_type": "code",
   "execution_count": 1,
   "metadata": {},
   "outputs": [
    {
     "name": "stdout",
     "output_type": "stream",
     "text": [
      "Populating the interactive namespace from numpy and matplotlib\n"
     ]
    }
   ],
   "source": [
    "import numpy as np\n",
    "from tqdm import tqdm\n",
    "import matplotlib.pyplot as plt\n",
    "import seaborn as sns\n",
    "sns.set_style(\"darkgrid\")\n",
    "%pylab inline\n",
    "import random"
   ]
  },
  {
   "cell_type": "markdown",
   "metadata": {},
   "source": [
    "# Policy iteration"
   ]
  },
  {
   "cell_type": "markdown",
   "metadata": {},
   "source": [
    "### Parameters"
   ]
  },
  {
   "cell_type": "code",
   "execution_count": 2,
   "metadata": {},
   "outputs": [],
   "source": [
    "gamma = 1 # discounting rate\n",
    "rewardSize = -1\n",
    "gridSize = 4\n",
    "terminationStates = [[0,0], [gridSize-1, gridSize-1]]\n",
    "actions = [[-1, 0], [1, 0], [0, 1], [0, -1]]\n",
    "numIterations = 1000"
   ]
  },
  {
   "cell_type": "markdown",
   "metadata": {},
   "source": [
    "### Utilities"
   ]
  },
  {
   "cell_type": "code",
   "execution_count": 3,
   "metadata": {},
   "outputs": [],
   "source": [
    "def actionRewardFunction(initialPosition, action):\n",
    "    \n",
    "    if initialPosition in terminationStates:\n",
    "        return initialPosition, 0\n",
    "    \n",
    "    reward = rewardSize\n",
    "    finalPosition = np.array(initialPosition) + np.array(action)\n",
    "    if -1 in finalPosition or 4 in finalPosition: \n",
    "        finalPosition = initialPosition\n",
    "        \n",
    "    return finalPosition, reward"
   ]
  },
  {
   "cell_type": "markdown",
   "metadata": {},
   "source": [
    "### Initialization"
   ]
  },
  {
   "cell_type": "code",
   "execution_count": 4,
   "metadata": {},
   "outputs": [],
   "source": [
    "valueMap = np.zeros((gridSize, gridSize))\n",
    "states = [[i, j] for i in range(gridSize) for j in range(gridSize)]"
   ]
  },
  {
   "cell_type": "code",
   "execution_count": 5,
   "metadata": {},
   "outputs": [
    {
     "data": {
      "text/plain": [
       "array([[0., 0., 0., 0.],\n",
       "       [0., 0., 0., 0.],\n",
       "       [0., 0., 0., 0.],\n",
       "       [0., 0., 0., 0.]])"
      ]
     },
     "execution_count": 5,
     "metadata": {},
     "output_type": "execute_result"
    }
   ],
   "source": [
    "# values of the value function at step 0\n",
    "valueMap"
   ]
  },
  {
   "cell_type": "markdown",
   "metadata": {},
   "source": [
    "### Policy evaluation"
   ]
  },
  {
   "cell_type": "code",
   "execution_count": 6,
   "metadata": {},
   "outputs": [
    {
     "name": "stdout",
     "output_type": "stream",
     "text": [
      "Iteration 1\n",
      "[[ 0. -1. -1. -1.]\n",
      " [-1. -1. -1. -1.]\n",
      " [-1. -1. -1. -1.]\n",
      " [-1. -1. -1.  0.]]\n",
      "\n",
      "Iteration 2\n",
      "[[ 0.   -1.75 -2.   -2.  ]\n",
      " [-1.75 -2.   -2.   -2.  ]\n",
      " [-2.   -2.   -2.   -1.75]\n",
      " [-2.   -2.   -1.75  0.  ]]\n",
      "\n",
      "Iteration 3\n",
      "[[ 0.     -2.4375 -2.9375 -3.    ]\n",
      " [-2.4375 -2.875  -3.     -2.9375]\n",
      " [-2.9375 -3.     -2.875  -2.4375]\n",
      " [-3.     -2.9375 -2.4375  0.    ]]\n",
      "\n",
      "Iteration 10\n",
      "[[ 0.         -6.13796997 -8.35235596 -8.96731567]\n",
      " [-6.13796997 -7.73739624 -8.42782593 -8.35235596]\n",
      " [-8.35235596 -8.42782593 -7.73739624 -6.13796997]\n",
      " [-8.96731567 -8.35235596 -6.13796997  0.        ]]\n",
      "\n",
      "Iteration 100\n",
      "[[  0.         -13.94260509 -19.91495107 -21.90482522]\n",
      " [-13.94260509 -17.92507693 -19.91551999 -19.91495107]\n",
      " [-19.91495107 -19.91551999 -17.92507693 -13.94260509]\n",
      " [-21.90482522 -19.91495107 -13.94260509   0.        ]]\n",
      "\n",
      "Iteration 1000\n",
      "[[  0. -14. -20. -22.]\n",
      " [-14. -18. -20. -20.]\n",
      " [-20. -20. -18. -14.]\n",
      " [-22. -20. -14.   0.]]\n",
      "\n"
     ]
    }
   ],
   "source": [
    "deltas = []\n",
    "for it in range(numIterations):\n",
    "    copyValueMap = np.copy(valueMap)\n",
    "    deltaState = []\n",
    "    for state in states:\n",
    "        weightedRewards = 0\n",
    "        for action in actions:\n",
    "            finalPosition, reward = actionRewardFunction(state, action)\n",
    "            weightedRewards += (1/len(actions))*(reward+(gamma*valueMap[finalPosition[0], finalPosition[1]]))\n",
    "        deltaState.append(np.abs(copyValueMap[state[0], state[1]]-weightedRewards))\n",
    "        copyValueMap[state[0], state[1]] = weightedRewards\n",
    "    deltas.append(deltaState)\n",
    "    valueMap = copyValueMap\n",
    "    if it in [0,1,2,9, 99, numIterations-1]:\n",
    "        print(\"Iteration {}\".format(it+1))\n",
    "        print(valueMap)\n",
    "        print(\"\")\n",
    "        "
   ]
  },
  {
   "cell_type": "code",
   "execution_count": 7,
   "metadata": {},
   "outputs": [
    {
     "data": {
      "text/plain": [
       "[<matplotlib.lines.Line2D at 0x1d5d621a5f8>,\n",
       " <matplotlib.lines.Line2D at 0x1d5d621a780>,\n",
       " <matplotlib.lines.Line2D at 0x1d5d621a908>,\n",
       " <matplotlib.lines.Line2D at 0x1d5d621aa90>,\n",
       " <matplotlib.lines.Line2D at 0x1d5d621ac18>,\n",
       " <matplotlib.lines.Line2D at 0x1d5d621ada0>,\n",
       " <matplotlib.lines.Line2D at 0x1d5d621af28>,\n",
       " <matplotlib.lines.Line2D at 0x1d5d82200f0>,\n",
       " <matplotlib.lines.Line2D at 0x1d5d8220278>,\n",
       " <matplotlib.lines.Line2D at 0x1d5d8220400>,\n",
       " <matplotlib.lines.Line2D at 0x1d5d8220588>,\n",
       " <matplotlib.lines.Line2D at 0x1d5d8220710>,\n",
       " <matplotlib.lines.Line2D at 0x1d5d8220898>,\n",
       " <matplotlib.lines.Line2D at 0x1d5d8220a20>,\n",
       " <matplotlib.lines.Line2D at 0x1d5d8220ba8>,\n",
       " <matplotlib.lines.Line2D at 0x1d5d8220d30>]"
      ]
     },
     "execution_count": 7,
     "metadata": {},
     "output_type": "execute_result"
    },
    {
     "data": {
      "image/png": "[encoded data removed]",
      "text/plain": [
       "<Figure size 1440x720 with 1 Axes>"
      ]
     },
     "metadata": {
      "needs_background": "light"
     },
     "output_type": "display_data"
    }
   ],
   "source": [
    "plt.figure(figsize=(20, 10))\n",
    "plt.plot(deltas)"
   ]
  },
  {
   "cell_type": "code",
   "execution_count": null,
   "metadata": {},
   "outputs": [],
   "source": []
  }
 ],
 "metadata": {
  "kernelspec": {
   "display_name": "Python 3",
   "language": "python",
   "name": "python3"
  },
  "language_info": {
   "codemirror_mode": {
    "name": "ipython",
    "version": 3
   },
   "file_extension": ".py",
   "mimetype": "text/x-python",
   "name": "python",
   "nbconvert_exporter": "python",
   "pygments_lexer": "ipython3",
   "version": "3.5.6"
  }
 },
 "nbformat": 4,
 "nbformat_minor": 2
}
