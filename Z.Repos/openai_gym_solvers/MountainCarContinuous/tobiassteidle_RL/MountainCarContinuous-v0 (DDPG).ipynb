{
 "cells": [
  {
   "cell_type": "markdown",
   "metadata": {},
   "source": [
    "# MountainCarContinuous-v0\n",
    "---\n",
    "In this notebook, you will implement a DDPG agent with OpenAI Gym's MountainCarContinuous-v0 environment.\n",
    "\n",
    "### 1. Import the Necessary Packages"
   ]
  },
  {
   "cell_type": "code",
   "execution_count": 1,
   "metadata": {},
   "outputs": [
    {
     "name": "stdout",
     "output_type": "stream",
     "text": [
      "Device:  cuda:0\n"
     ]
    }
   ],
   "source": [
    "import gym.spaces\n",
    "import random\n",
    "import torch\n",
    "import numpy as np\n",
    "from collections import deque\n",
    "import matplotlib.pyplot as plt\n",
    "%matplotlib inline\n",
    "\n",
    "import os\n",
    "import sys\n",
    "\n",
    "module_path = os.path.abspath(os.path.join('../..'))\n",
    "if module_path not in sys.path:\n",
    "    sys.path.append(module_path)\n",
    "\n",
    "from Agent import Agent\n",
    "\n",
    "device = torch.device(\"cuda:0\" if torch.cuda.is_available() else \"cpu\")\n",
    "print(\"Device: \", device)"
   ]
  },
  {
   "cell_type": "markdown",
   "metadata": {},
   "source": [
    "### 2. Instantiate the Environment and Agent\n",
    "\n",
    "Initialize the environment in the code cell below."
   ]
  },
  {
   "cell_type": "code",
   "execution_count": 13,
   "metadata": {},
   "outputs": [
    {
     "name": "stdout",
     "output_type": "stream",
     "text": [
      "\u001b[33mWARN: gym.spaces.Box autodetected dtype as <class 'numpy.float32'>. Please provide explicit dtype.\u001b[0m\n",
      "\u001b[33mWARN: gym.spaces.Box autodetected dtype as <class 'numpy.float32'>. Please provide explicit dtype.\u001b[0m\n",
      "Size of each action: 1\n",
      "Size of state: 2\n",
      "Action low: [-1.]\n",
      "Action high:  [1.]\n"
     ]
    }
   ],
   "source": [
    "random_seed = 2\n",
    "\n",
    "env = gym.make('MountainCarContinuous-v0')\n",
    "env.seed(random_seed)\n",
    "\n",
    "# size of each action\n",
    "action_size = env.action_space.shape[0]\n",
    "print('Size of each action:', action_size)\n",
    "\n",
    "# examine the state space \n",
    "state_size = env.observation_space.shape[0]\n",
    "print('Size of state:', state_size)\n",
    "\n",
    "action_low = env.action_space.low\n",
    "print('Action low:', action_low)\n",
    "\n",
    "action_high = env.action_space.high\n",
    "print('Action high: ', action_high)"
   ]
  },
  {
   "cell_type": "markdown",
   "metadata": {},
   "source": [
    "### 3. Train the Agent with DDPG\n",
    "\n",
    "Run the code cell below to train the agent from scratch.  You are welcome to amend the supplied values of the parameters in the function, to try to see if you can get better performance!"
   ]
  },
  {
   "cell_type": "code",
   "execution_count": 3,
   "metadata": {},
   "outputs": [],
   "source": [
    "from itertools import count\n",
    "import time\n",
    "\n",
    "agent = Agent(state_size=state_size, action_size=action_size, random_seed=random_seed)"
   ]
  },
  {
   "cell_type": "code",
   "execution_count": 4,
   "metadata": {},
   "outputs": [],
   "source": [
    "def save_model():\n",
    "    print(\"Model Save...\")\n",
    "    torch.save(agent.actor_local.state_dict(), 'checkpoint_actor.pth')\n",
    "    torch.save(agent.critic_local.state_dict(), 'checkpoint_critic.pth')"
   ]
  },
  {
   "cell_type": "code",
   "execution_count": 5,
   "metadata": {},
   "outputs": [
    {
     "name": "stdout",
     "output_type": "stream",
     "text": [
      "Episode 1, Average Score: -79.87, Max: -79.87, Min: -79.87, Time: 2.52\n",
      "Episode 2, Average Score: -79.37, Max: -79.37, Min: -79.87, Time: 2.35\n",
      "Episode 3, Average Score: -80.99, Max: -79.37, Min: -80.99, Time: 2.24\n",
      "Episode 4, Average Score: -78.94, Max: -78.94, Min: -80.99, Time: 2.25\n",
      "Episode 5, Average Score: -79.16, Max: -78.94, Min: -80.99, Time: 2.32\n",
      "Episode 6, Average Score: -80.36, Max: -78.94, Min: -80.99, Time: 2.27\n",
      "Episode 7, Average Score: -78.84, Max: -78.84, Min: -80.99, Time: 2.26\n",
      "Episode 8, Average Score: -75.65, Max: -75.65, Min: -80.99, Time: 2.28\n",
      "Episode 9, Average Score: -77.64, Max: -75.65, Min: -80.99, Time: 2.26\n",
      "Episode 10, Average Score: -78.36, Max: -75.65, Min: -80.99, Time: 2.28\n",
      "Episode 11, Average Score: -78.41, Max: -75.65, Min: -80.99, Time: 2.34\n",
      "Episode 12, Average Score: 35.08, Max: 35.08, Min: -80.99, Time: 1.90\n",
      "Episode 13, Average Score: -82.47, Max: 35.08, Min: -82.47, Time: 2.24\n",
      "Episode 14, Average Score: -79.99, Max: 35.08, Min: -82.47, Time: 2.26\n",
      "Episode 15, Average Score: -77.44, Max: 35.08, Min: -82.47, Time: 2.29\n",
      "Episode 16, Average Score: -81.67, Max: 35.08, Min: -82.47, Time: 2.26\n",
      "Episode 17, Average Score: -80.96, Max: 35.08, Min: -82.47, Time: 2.32\n",
      "Episode 18, Average Score: -80.26, Max: 35.08, Min: -82.47, Time: 2.26\n",
      "Episode 19, Average Score: -80.12, Max: 35.08, Min: -82.47, Time: 2.29\n",
      "Model Save...\n",
      "Episode 20, Average Score: -80.36, Max: 35.08, Min: -82.47, Time: 2.26\n",
      "Episode 21, Average Score: -50.60, Max: 35.08, Min: -82.47, Time: 41.56\n",
      "Episode 22, Average Score: -23.95, Max: 35.08, Min: -82.47, Time: 48.89\n",
      "Episode 23, Average Score: -65.84, Max: 35.08, Min: -82.47, Time: 48.68\n",
      "Episode 24, Average Score: -81.38, Max: 35.08, Min: -82.47, Time: 48.49\n",
      "Episode 25, Average Score: -33.37, Max: 35.08, Min: -82.47, Time: 48.36\n",
      "Episode 26, Average Score: 87.21, Max: 87.21, Min: -82.47, Time: 44.20\n",
      "Episode 27, Average Score: -29.60, Max: 87.21, Min: -82.47, Time: 48.83\n",
      "Episode 28, Average Score: -50.90, Max: 87.21, Min: -82.47, Time: 48.60\n",
      "Episode 29, Average Score: -60.06, Max: 87.21, Min: -82.47, Time: 49.14\n",
      "Episode 30, Average Score: -20.23, Max: 87.21, Min: -82.47, Time: 48.73\n",
      "Episode 31, Average Score: -19.13, Max: 87.21, Min: -82.47, Time: 47.61\n",
      "Episode 32, Average Score: 95.65, Max: 95.65, Min: -82.47, Time: 10.44\n",
      "Model Save...\n",
      "\n",
      "Environment solved in 32 episodes!\tAverage Score: 95.65\n"
     ]
    },
    {
     "data": {
      "image/png": "[encoded data removed]",
      "text/plain": [
       "<Figure size 432x288 with 1 Axes>"
      ]
     },
     "metadata": {},
     "output_type": "display_data"
    }
   ],
   "source": [
    "def ddpg(n_episodes=100000, max_t=1500, print_every=1, save_every=20):\n",
    "    scores_deque = deque(maxlen=print_every)\n",
    "    scores = []\n",
    "    \n",
    "    for i_episode in range(1, n_episodes+1):\n",
    "        state = env.reset()\n",
    "        agent.reset()\n",
    "        score = 0\n",
    "        timestep = time.time()\n",
    "        for t in range(max_t):\n",
    "            action = agent.act(state)\n",
    "            next_state, reward, done, _ = env.step(action)\n",
    "            agent.step(state, action, reward, next_state, done, t)\n",
    "            score += reward\n",
    "            state = next_state            \n",
    "            if done:\n",
    "                break \n",
    "                \n",
    "        scores_deque.append(score)\n",
    "        scores.append(score)\n",
    "        score_average = np.mean(scores_deque)\n",
    "        \n",
    "        if i_episode % save_every == 0:\n",
    "            save_model()\n",
    "        \n",
    "        if i_episode % print_every == 0:\n",
    "            print('\\rEpisode {}, Average Score: {:.2f}, Max: {:.2f}, Min: {:.2f}, Time: {:.2f}'\\\n",
    "                  .format(i_episode, score_average, np.max(scores), np.min(scores), time.time() - timestep), end=\"\\n\")\n",
    "                    \n",
    "        if np.mean(scores_deque) >= 90.0:            \n",
    "            save_model()\n",
    "            print('\\nEnvironment solved in {:d} episodes!\\tAverage Score: {:.2f}'.format(i_episode, score_average))            \n",
    "            break            \n",
    "            \n",
    "            \n",
    "    return scores\n",
    "\n",
    "scores = ddpg()\n",
    "\n",
    "fig = plt.figure()\n",
    "ax = fig.add_subplot(111)\n",
    "plt.plot(np.arange(1, len(scores)+1), scores)\n",
    "plt.ylabel('Score')\n",
    "plt.xlabel('Episode #')\n",
    "plt.show()"
   ]
  },
  {
   "cell_type": "markdown",
   "metadata": {},
   "source": [
    "### 4. Watch a Smart Agent!\n",
    "\n",
    "In the next code cell, you will load the trained weights from file to watch a smart agent!"
   ]
  },
  {
   "cell_type": "code",
   "execution_count": 14,
   "metadata": {},
   "outputs": [],
   "source": [
    "agent.actor_local.load_state_dict(torch.load('checkpoint_actor.pth'))\n",
    "agent.critic_local.load_state_dict(torch.load('checkpoint_critic.pth'))\n",
    "\n",
    "for _ in range(5):\n",
    "    state = env.reset()\n",
    "    for t in range(1200):\n",
    "        action = agent.act(state, add_noise=False)\n",
    "        env.render()\n",
    "        state, reward, done, _ = env.step(action)\n",
    "        if done:\n",
    "            break \n",
    "\n",
    "env.close()"
   ]
  },
  {
   "cell_type": "code",
   "execution_count": null,
   "metadata": {},
   "outputs": [],
   "source": []
  }
 ],
 "metadata": {
  "kernelspec": {
   "display_name": "drlnd",
   "language": "python",
   "name": "drlnd"
  },
  "language_info": {
   "codemirror_mode": {
    "name": "ipython",
    "version": 3
   },
   "file_extension": ".py",
   "mimetype": "text/x-python",
   "name": "python",
   "nbconvert_exporter": "python",
   "pygments_lexer": "ipython3",
   "version": "3.6.6"
  }
 },
 "nbformat": 4,
 "nbformat_minor": 2
}
